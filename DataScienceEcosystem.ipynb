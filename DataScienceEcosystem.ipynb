{
  "metadata": {
    "kernelspec": {
      "name": "python",
      "display_name": "Python (Pyodide)",
      "language": "python"
    },
    "language_info": {
      "codemirror_mode": {
        "name": "python",
        "version": 3
      },
      "file_extension": ".py",
      "mimetype": "text/x-python",
      "name": "python",
      "nbconvert_exporter": "python",
      "pygments_lexer": "ipython3",
      "version": "3.8"
    }
  },
  "nbformat_minor": 5,
  "nbformat": 4,
  "cells": [
    {
      "id": "d0101a3f-5b5a-4769-bc84-24d8bd575065",
      "cell_type": "markdown",
      "source": "# Data Science Tools and Ecosystem",
      "metadata": {}
    },
    {
      "id": "758a650c-d186-4604-bf6f-ca1363e7bede",
      "cell_type": "markdown",
      "source": "## Author\nCarolina Abelho",
      "metadata": {}
    },
    {
      "id": "655584b4-bc4c-4d86-971b-977067886c16",
      "cell_type": "markdown",
      "source": "In this notebook, Data Science Tools and EcoSystem are summarized",
      "metadata": {}
    },
    {
      "id": "7852e97c-eb61-4b55-bc55-63ec554ef938",
      "cell_type": "markdown",
      "source": "**Objectives:**\n- List of popular languages for Data Science\n- Commonly used libraries by Data Scientists\n- Data Scientist Tools (open source)\n- Evaluating arithmetic expressions in Python",
      "metadata": {}
    },
    {
      "id": "473b41e3-da56-4477-9bdd-da9cd1e384b1",
      "cell_type": "markdown",
      "source": "Some of the commonly used libraries used by Data Scientists include:\n1. Pandas (offers data structures and tools for effective data cleaning, manipulation and analysis)\n2. NumPy (allows to apply mathematical functions to arrays)\n3. Matplotlib (for data visualization)\n4. Scikit-learn (for statistical modeling, like regression, classification, clustering, etc.)",
      "metadata": {}
    },
    {
      "id": "e5403085-9bf1-43a0-8401-ac5a319c12fc",
      "cell_type": "markdown",
      "source": "Some of the popular languages that Data Scientists use are:\n1. Python\n2. R\n3. SQL",
      "metadata": {}
    },
    {
      "id": "68d62ab9-8665-4174-be63-b6778b59e76f",
      "cell_type": "markdown",
      "source": "|Data Science Tools|\n|------------------|\n|Jupyter NoteBook / JupyterLab|\n|RStudio|\n|Visual Studio Code|",
      "metadata": {}
    },
    {
      "id": "f15f4c0a-d06e-465a-821a-7b706884ac3c",
      "cell_type": "markdown",
      "source": "### Below are a few examples of evaluating arithmetic expressions in Python",
      "metadata": {}
    },
    {
      "id": "8a41dfd1-4605-43ee-bb27-bb53edcc5fdd",
      "cell_type": "code",
      "source": "# This a simple arithmetic expression to mutiply then add integers\n(3*4)+5",
      "metadata": {
        "trusted": true
      },
      "outputs": [
        {
          "execution_count": 1,
          "output_type": "execute_result",
          "data": {
            "text/plain": "17"
          },
          "metadata": {}
        }
      ],
      "execution_count": 1
    },
    {
      "id": "5ba5b8ae-fb8f-430f-8079-b7e94111829e",
      "cell_type": "code",
      "source": "# This will convert 200 minutes to hours by diving by 60\n200/60",
      "metadata": {
        "trusted": true
      },
      "outputs": [
        {
          "execution_count": 2,
          "output_type": "execute_result",
          "data": {
            "text/plain": "3.3333333333333335"
          },
          "metadata": {}
        }
      ],
      "execution_count": 2
    }
  ]
}